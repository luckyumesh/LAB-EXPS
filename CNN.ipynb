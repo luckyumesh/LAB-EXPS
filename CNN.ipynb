{
  "nbformat": 4,
  "nbformat_minor": 0,
  "metadata": {
    "colab": {
      "provenance": [],
      "authorship_tag": "ABX9TyMZ1uPrN8rLvqIj5h97NtIZ",
      "include_colab_link": true
    },
    "kernelspec": {
      "name": "python3",
      "display_name": "Python 3"
    },
    "language_info": {
      "name": "python"
    }
  },
  "cells": [
    {
      "cell_type": "markdown",
      "metadata": {
        "id": "view-in-github",
        "colab_type": "text"
      },
      "source": [
        "<a href=\"https://colab.research.google.com/github/luckyumesh/LAB-EXPS/blob/main/CNN.ipynb\" target=\"_parent\"><img src=\"https://colab.research.google.com/assets/colab-badge.svg\" alt=\"Open In Colab\"/></a>"
      ]
    },
    {
      "cell_type": "code",
      "execution_count": 1,
      "metadata": {
        "colab": {
          "base_uri": "https://localhost:8080/"
        },
        "id": "VdosHV9PyOce",
        "outputId": "15e268cb-f84e-439f-fa0d-20c55334ec7b"
      },
      "outputs": [
        {
          "output_type": "stream",
          "name": "stdout",
          "text": [
            "Downloading data from https://storage.googleapis.com/tensorflow/tf-keras-datasets/mnist.npz\n",
            "11490434/11490434 [==============================] - 0s 0us/step\n",
            "Epoch 1/10\n",
            "300/300 - 54s - loss: 0.3597 - accuracy: 0.8891 - val_loss: 0.0707 - val_accuracy: 0.9781 - 54s/epoch - 179ms/step\n",
            "Epoch 2/10\n",
            "300/300 - 43s - loss: 0.1034 - accuracy: 0.9694 - val_loss: 0.0457 - val_accuracy: 0.9868 - 43s/epoch - 144ms/step\n",
            "Epoch 3/10\n",
            "300/300 - 43s - loss: 0.0793 - accuracy: 0.9767 - val_loss: 0.0342 - val_accuracy: 0.9891 - 43s/epoch - 143ms/step\n",
            "Epoch 4/10\n",
            "300/300 - 43s - loss: 0.0621 - accuracy: 0.9815 - val_loss: 0.0303 - val_accuracy: 0.9897 - 43s/epoch - 143ms/step\n",
            "Epoch 5/10\n",
            "300/300 - 43s - loss: 0.0558 - accuracy: 0.9833 - val_loss: 0.0290 - val_accuracy: 0.9903 - 43s/epoch - 143ms/step\n",
            "Epoch 6/10\n",
            "300/300 - 43s - loss: 0.0493 - accuracy: 0.9850 - val_loss: 0.0270 - val_accuracy: 0.9911 - 43s/epoch - 143ms/step\n",
            "Epoch 7/10\n",
            "300/300 - 43s - loss: 0.0438 - accuracy: 0.9866 - val_loss: 0.0246 - val_accuracy: 0.9918 - 43s/epoch - 143ms/step\n",
            "Epoch 8/10\n",
            "300/300 - 43s - loss: 0.0393 - accuracy: 0.9882 - val_loss: 0.0261 - val_accuracy: 0.9917 - 43s/epoch - 143ms/step\n",
            "Epoch 9/10\n",
            "300/300 - 42s - loss: 0.0365 - accuracy: 0.9889 - val_loss: 0.0218 - val_accuracy: 0.9927 - 42s/epoch - 141ms/step\n",
            "Epoch 10/10\n",
            "300/300 - 42s - loss: 0.0316 - accuracy: 0.9902 - val_loss: 0.0201 - val_accuracy: 0.9929 - 42s/epoch - 140ms/step\n",
            "Test accuracy: 99.29%\n"
          ]
        }
      ],
      "source": [
        "import tensorflow as tf\n",
        "from tensorflow.keras.datasets import mnist\n",
        "from tensorflow.keras.models import Sequential\n",
        "from tensorflow.keras.layers import Conv2D, MaxPooling2D, Flatten, Dense, Dropout\n",
        "from tensorflow.keras.utils import to_categorical\n",
        "# Load and preprocess the dataset\n",
        "(x_train, y_train), (x_test, y_test) = mnist.load_data()\n",
        "x_train = x_train.reshape(x_train.shape[0], 28, 28, 1).astype('float32') / 255\n",
        "x_test = x_test.reshape(x_test.shape[0], 28, 28, 1).astype('float32') / 255\n",
        "y_train = to_categorical(y_train, 10)\n",
        "y_test = to_categorical(y_test, 10)\n",
        "# Build the CNN model\n",
        "model = Sequential()\n",
        "model.add(Conv2D(32, kernel_size=(3, 3), activation='relu',\n",
        "input_shape=(28, 28, 1)))\n",
        "model.add(MaxPooling2D(pool_size=(2, 2)))\n",
        "model.add(Conv2D(64, kernel_size=(3, 3), activation='relu'))\n",
        "model.add(MaxPooling2D(pool_size=(2, 2)))\n",
        "model.add(Flatten())\n",
        "model.add(Dense(128, activation='relu'))\n",
        "model.add(Dropout(0.5))\n",
        "model.add(Dense(10, activation='softmax'))\n",
        "# Compile the model\n",
        "model.compile(loss='categorical_crossentropy', optimizer='adam',\n",
        "metrics=['accuracy'])\n",
        "# Train the model\n",
        "model.fit(x_train, y_train, validation_data=(x_test, y_test), epochs=10,\n",
        "batch_size=200, verbose=2)\n",
        "# Evaluate the model\n",
        "test_loss, test_acc = model.evaluate(x_test, y_test, verbose=0)\n",
        "print(f'Test accuracy: {test_acc*100:.2f}%')\n",
        "\n",
        "\n",
        "\n",
        "\n",
        "\n"
      ]
    }
  ]
}