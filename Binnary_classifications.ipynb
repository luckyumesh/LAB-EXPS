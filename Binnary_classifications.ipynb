{
  "nbformat": 4,
  "nbformat_minor": 0,
  "metadata": {
    "colab": {
      "provenance": [],
      "authorship_tag": "ABX9TyPmoceJmDa9htL8BASGZOBb",
      "include_colab_link": true
    },
    "kernelspec": {
      "name": "python3",
      "display_name": "Python 3"
    },
    "language_info": {
      "name": "python"
    }
  },
  "cells": [
    {
      "cell_type": "markdown",
      "metadata": {
        "id": "view-in-github",
        "colab_type": "text"
      },
      "source": [
        "<a href=\"https://colab.research.google.com/github/luckyumesh/LAB-EXPS/blob/main/Binnary_classifications.ipynb\" target=\"_parent\"><img src=\"https://colab.research.google.com/assets/colab-badge.svg\" alt=\"Open In Colab\"/></a>"
      ]
    },
    {
      "cell_type": "code",
      "execution_count": 1,
      "metadata": {
        "colab": {
          "base_uri": "https://localhost:8080/"
        },
        "id": "Yhqzr69Otu3T",
        "outputId": "4ef84ef7-d284-409f-b48e-7e83844ed0f8"
      },
      "outputs": [
        {
          "output_type": "stream",
          "name": "stdout",
          "text": [
            "Epoch 1/10\n",
            "20/20 [==============================] - 3s 41ms/step - loss: 0.7055 - accuracy: 0.4953 - val_loss: 0.6820 - val_accuracy: 0.6000\n",
            "Epoch 2/10\n",
            "20/20 [==============================] - 0s 13ms/step - loss: 0.6731 - accuracy: 0.5437 - val_loss: 0.6445 - val_accuracy: 0.6000\n",
            "Epoch 3/10\n",
            "20/20 [==============================] - 0s 7ms/step - loss: 0.6482 - accuracy: 0.5641 - val_loss: 0.6176 - val_accuracy: 0.6562\n",
            "Epoch 4/10\n",
            "20/20 [==============================] - 0s 7ms/step - loss: 0.6242 - accuracy: 0.6391 - val_loss: 0.5933 - val_accuracy: 0.7063\n",
            "Epoch 5/10\n",
            "20/20 [==============================] - 0s 7ms/step - loss: 0.5992 - accuracy: 0.7656 - val_loss: 0.5699 - val_accuracy: 0.7688\n",
            "Epoch 6/10\n",
            "20/20 [==============================] - 0s 10ms/step - loss: 0.5736 - accuracy: 0.8219 - val_loss: 0.5460 - val_accuracy: 0.8500\n",
            "Epoch 7/10\n",
            "20/20 [==============================] - 0s 8ms/step - loss: 0.5475 - accuracy: 0.8344 - val_loss: 0.5211 - val_accuracy: 0.8813\n",
            "Epoch 8/10\n",
            "20/20 [==============================] - 0s 11ms/step - loss: 0.5207 - accuracy: 0.8656 - val_loss: 0.4976 - val_accuracy: 0.9062\n",
            "Epoch 9/10\n",
            "20/20 [==============================] - 0s 7ms/step - loss: 0.4942 - accuracy: 0.8719 - val_loss: 0.4721 - val_accuracy: 0.9312\n",
            "Epoch 10/10\n",
            "20/20 [==============================] - 0s 8ms/step - loss: 0.4683 - accuracy: 0.8859 - val_loss: 0.4462 - val_accuracy: 0.9438\n",
            "7/7 [==============================] - 0s 3ms/step\n",
            "Test accuracy: 0.9000\n"
          ]
        }
      ],
      "source": [
        "import numpy as np\n",
        "import tensorflow as tf\n",
        "from tensorflow.keras.models import Sequential\n",
        "from tensorflow.keras.layers import Dense,Input\n",
        "from sklearn.model_selection import train_test_split\n",
        "from sklearn.metrics import accuracy_score\n",
        "np.random.seed(42)\n",
        "X = np.random.rand(1000, 2)\n",
        "y = (X[:, 0] + X[:, 1] > 1).astype(int)\n",
        "X_train, X_test, y_train, y_test = train_test_split(X, y, test_size=0.2,\n",
        "random_state=42)\n",
        "model = Sequential([Input(shape=(2)),Dense(64, activation='relu'),Dense(1,\n",
        "activation='sigmoid')])\n",
        "model.compile(optimizer='adam',loss='binary_crossentropy',metrics=['accuracy'])\n",
        "model.fit(X_train, y_train, epochs=10, batch_size=32, validation_split=0.2)\n",
        "y_pred = model.predict(X_test)\n",
        "y_pred_binary = (y_pred > 0.5).astype(int)\n",
        "test_accuracy = accuracy_score(y_test, y_pred_binary)\n",
        "print(f\"Test accuracy: {test_accuracy:.4f}\")\n",
        "\n"
      ]
    }
  ]
}